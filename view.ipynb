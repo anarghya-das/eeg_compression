{
 "cells": [
  {
   "cell_type": "code",
   "execution_count": 2,
   "metadata": {},
   "outputs": [],
   "source": [
    "import numpy as np\n",
    "import mne\n",
    "import os\n",
    "import matplotlib.pyplot as plt\n",
    "import scipy"
   ]
  },
  {
   "cell_type": "code",
   "execution_count": null,
   "metadata": {},
   "outputs": [],
   "source": [
    "labels_folder = os.path.join(\"data\", \"mi\", \"labels\")\n",
    "all_labels = []\n",
    "\n",
    "for l in os.listdir(labels_folder):\n",
    "    y_train = scipy.io.loadmat(os.path.join(labels_folder, l))[\"y_train\"]\n",
    "    y_test = scipy.io.loadmat(os.path.join(labels_folder, l))[\"y_test\"]\n",
    "    all_labels = np.concatenate((y_train, y_test), axis=1).reshape(-1)\n",
    "\n",
    "# create a n,3 matrix with first column increasing from 0 to n-1, second column 0 and third column label value\n",
    "events = np.array(\n",
    "    [np.arange(len(all_labels)), np.zeros(len(all_labels)), all_labels]).T\n",
    "\n",
    "data = np.load(os.path.join(\"intermediate\", \"mi\",\n",
    "               \"transformed\", \"sp1s_aa_100hz.npy\"), allow_pickle=True)\n",
    "n_channels = data.shape[0]\n",
    "sampling_rate = 100\n",
    "raw_data = data.reshape(n_channels, -1)\n",
    "epoch_data = data.reshape(data.shape[2], data.shape[0], data.shape[1])\n",
    "\n",
    "info = mne.create_info(ch_names=['F3', 'F1', 'Fz', 'F2', 'F4', 'FC5', 'FC3', 'FC1', 'FCz', 'FC2', 'FC4', 'FC6',\n",
    "                       'C5', 'C3', 'C1', 'Cz', 'C2', 'C4', 'C6', 'CP5', 'CP3', 'CP1', 'CPz', 'CP2', 'CP4', 'CP6', 'O1', 'O2'], ch_types=['eeg']*n_channels, sfreq=sampling_rate)\n",
    "raw = mne.io.RawArray(raw_data, info)\n",
    "event_id = dict(left=0, right=1)\n",
    "events = mne.make_fixed_length_events(raw, duration=0.5)\n",
    "events[:, 2] = all_labels\n",
    "epochs = mne.EpochsArray(epoch_data, info, events, tmin=0,\n",
    "                         event_id=event_id, baseline=None)\n",
    "\n",
    "# # epochs.plot(scalings ='auto') # plot all epochs\n",
    "# right = epochs['right'].average()\n",
    "# left = epochs['left'].average()\n",
    "# left.plot()\n",
    "# pplot psd of C3 channel"
   ]
  },
  {
   "cell_type": "code",
   "execution_count": 110,
   "metadata": {},
   "outputs": [],
   "source": [
    "from sklearn.model_selection import train_test_split\n",
    "import pandas as pd\n",
    "\n",
    "train_size = 0.8\n",
    "test_size = 1 - train_size\n",
    "features_path = os.path.join(\n",
    "    \"intermediate\", \"mi\", \"features\", \"wavelet_features.npy\")\n",
    "features = np.load(features_path)\n",
    "X_train, X_test, Y_train, Y_test = train_test_split(\n",
    "    features[:, :-1], features[:, -1], train_size=train_size, test_size=test_size, random_state=0)"
   ]
  },
  {
   "cell_type": "code",
   "execution_count": 95,
   "metadata": {},
   "outputs": [],
   "source": [
    "l = [\"rms\", \"mav\", \"integrated_eeg\",\n",
    "     \"simple_square_integral\", \"var\", \"aac\", \"wl\", \"zc\", \"ssc\"]\n",
    "feature_labels = []\n",
    "for i in range(1, 4):\n",
    "    lvl_str = f\"L{i}\"\n",
    "    if i == 0:\n",
    "        lvl_str = \"A\"\n",
    "        feature_labels.append(f\"{lvl_str}_{label}\")\n",
    "        continue\n",
    "\n",
    "    for j in range(3):\n",
    "        coef_str = \"\"\n",
    "        if j == 0:\n",
    "            coef_str = \"cH\"\n",
    "        elif j == 1:\n",
    "            coef_str = \"cV\"\n",
    "        elif j == 2:\n",
    "            coef_str = \"cD\"\n",
    "        for label in l:\n",
    "            feature_labels.append(f\"{lvl_str}_{coef_str}_{label}\")\n"
   ]
  },
  {
   "cell_type": "code",
   "execution_count": 108,
   "metadata": {},
   "outputs": [],
   "source": [
    "from sklearn.feature_selection import chi2\n",
    "from sklearn.feature_selection import SelectKBest\n",
    "\n",
    "bestfeatures = SelectKBest(score_func=chi2, k=30)\n",
    "fit = bestfeatures.fit(X_train, Y_train)\n",
    "\n",
    "dfscores = pd.DataFrame(fit.scores_)\n",
    "dfcolumns = pd.DataFrame(feature_labels)\n",
    "# concat two dataframes for better visualization\n",
    "featureScores = pd.concat([dfcolumns, dfscores], axis=1)\n",
    "featureScores.columns = ['Specs', 'Score']  # naming the dataframe columns\n",
    "featureScores.sort_values(by=['Score'], ascending=False, inplace=True, ignore_index=True)\n",
    "featureScores.head(30)\n",
    "\n",
    "# pick the top 30 features from X_train\n",
    "idx = fit.scores_.argsort()[-30:][::-1]\n",
    "X_train = X_train[:, idx]\n",
    "X_test = X_test[:, idx]"
   ]
  },
  {
   "cell_type": "code",
   "execution_count": 111,
   "metadata": {},
   "outputs": [
    {
     "data": {
      "text/plain": [
       "0.6309523809523809"
      ]
     },
     "execution_count": 111,
     "metadata": {},
     "output_type": "execute_result"
    }
   ],
   "source": [
    "from sklearn.discriminant_analysis import LinearDiscriminantAnalysis\n",
    "from sklearn.model_selection import cross_val_score\n",
    "from sklearn.model_selection import RepeatedStratifiedKFold\n",
    "from sklearn.pipeline import Pipeline\n",
    "from sklearn.preprocessing import StandardScaler\n",
    "\n",
    "clf = LinearDiscriminantAnalysis()\n",
    "clf.fit(X_train, Y_train)\n",
    "clf.score(X_test, Y_test)\n"
   ]
  },
  {
   "cell_type": "code",
   "execution_count": null,
   "metadata": {},
   "outputs": [],
   "source": [
    "from sklearn.linear_model import LogisticRegression\n",
    "from sklearn.neighbors import KNeighborsClassifier\n",
    "from sklearn.svm import SVC\n",
    "from sklearn.ensemble import RandomForestClassifier\n",
    "from sklearn.tree import DecisionTreeClassifier\n",
    "from sklearn.neural_network import MLPClassifier\n",
    "from sklearn.naive_bayes import GaussianNB\n",
    "from xgboost import XGBClassifier\n",
    "from sklearn.ensemble import GradientBoostingClassifier\n",
    "from sklearn import model_selection\n",
    "from sklearn.metrics import classification_report\n",
    "from sklearn.metrics import confusion_matrix\n",
    "from tqdm import tqdm\n",
    "\n",
    "models = [\n",
    "    ('LogReg', LogisticRegression(max_iter=20000,)),\n",
    "    ('RF', RandomForestClassifier()),\n",
    "    ('SVM', SVC()),\n",
    "    ('GNB', GaussianNB()),\n",
    "    ('XGB', XGBClassifier()),\n",
    "    (\"DecisionTree\", DecisionTreeClassifier()),\n",
    "    (\"MLPClassifier\", MLPClassifier(random_state=0)),\n",
    "    (\"GradientBoostingClassifier\", GradientBoostingClassifier(loss='exponential',\n",
    "                                                              n_estimators=1000, random_state=0))\n",
    "]\n",
    "\n",
    "results = []\n",
    "names = []\n",
    "scoring = ['accuracy', 'precision_weighted',\n",
    "           'recall_weighted', 'f1_weighted', 'roc_auc']\n",
    "for name, model in tqdm(models):\n",
    "    kfold = model_selection.KFold(\n",
    "        n_splits=10, random_state=0, shuffle=True)\n",
    "    cv_results = model_selection.cross_validate(\n",
    "        model, X_train, Y_train, cv=kfold, scoring=scoring)\n",
    "    clf = model.fit(X_train, Y_train)\n",
    "    y_pred = clf.predict(X_test)\n",
    "    print(name)\n",
    "    print(classification_report(\n",
    "        Y_test, y_pred, target_names=[\"Left\", \"Right\"]))\n",
    "\n",
    "results.append(cv_results)\n",
    "names.append(name)\n"
   ]
  }
 ],
 "metadata": {
  "kernelspec": {
   "display_name": "Python 3",
   "language": "python",
   "name": "python3"
  },
  "language_info": {
   "codemirror_mode": {
    "name": "ipython",
    "version": 3
   },
   "file_extension": ".py",
   "mimetype": "text/x-python",
   "name": "python",
   "nbconvert_exporter": "python",
   "pygments_lexer": "ipython3",
   "version": "3.9.13"
  },
  "orig_nbformat": 4
 },
 "nbformat": 4,
 "nbformat_minor": 2
}
